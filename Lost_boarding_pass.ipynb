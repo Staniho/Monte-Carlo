{
 "cells": [
  {
   "cell_type": "code",
   "execution_count": 2,
   "metadata": {},
   "outputs": [],
   "source": [
    "import seaborn as sb\n",
    "import numpy as np\n",
    "import pandas as pd"
   ]
  },
  {
   "cell_type": "code",
   "execution_count": 3,
   "metadata": {},
   "outputs": [],
   "source": [
    "np.random.seed(1)\n",
    "def plane_seats(n:int)->pd.DataFrame:\n",
    "    \"\"\"\n",
    "    Create DataFrame simulating blueprint of seating plan:\n",
    "        index: ID of passenger\n",
    "        Seat_assigned: ID of seat which was on passenger's pass\n",
    "        Seat_taken: ID of seat the passenger really sits on -filled in seat_taken function\n",
    "    \n",
    "    Args:\n",
    "        n (int): number of passengers\n",
    "    \n",
    "    Returns:\n",
    "        df (DataFrame): Blueprint of seating plan\n",
    "        \"\"\"\n",
    "    df=pd.DataFrame({\"ID_passenger\":range(1,n+1),\"Seat_assigned\":np.random.permutation(np.arange(1,n+1)),\"Seat_taken\":[np.nan]*n})\n",
    "    df.set_index(\"ID_passenger\",inplace=True)\n",
    "    df.loc[1,\"Seat_assigned\"]=np.nan # first passenger lost his pass\n",
    "    return df\n",
    "\n",
    "def seat_taken(n:int,df:pd.DataFrame)->pd.DataFrame:\n",
    "    \"\"\"\n",
    "    Filling Seat_taken column and info whether last passanger sits on his assigned seat\n",
    "\n",
    "    Args: \n",
    "    n  (int): number of passengers\n",
    "    df (pd.DataFrame): seating plan\n",
    "\n",
    "    Returns:\n",
    "    success (bool): Last passenger sits on his assigned seat\n",
    "    df (DataFrame): Updated seating plan\n",
    "    \"\"\"\n",
    "    free_seats=list(range(1,n+1))\n",
    "\n",
    "    for ID_pass in df.index:\n",
    "        seat_ass=df.loc[ID_pass,\"Seat_assigned\"]\n",
    "        if pd.isna(seat_ass) or seat_ass in df[\"Seat_taken\"].values:\n",
    "            subs_seat=free_seats.pop(np.random.randint(0,len(free_seats)))\n",
    "            df.loc[ID_pass,\"Seat_taken\"]=subs_seat\n",
    "\n",
    "        else:\n",
    "            df.loc[ID_pass,\"Seat_taken\"]=seat_ass\n",
    "            free_seats.remove(seat_ass)\n",
    "    success=df.loc[n,\"Seat_assigned\"]==df.loc[n,\"Seat_taken\"]\n",
    "    return success,df\n",
    "\n",
    "def simulation(n_runs,n_pass):\n",
    "    \"\"\"\n",
    "    Simulating boarding the plane n_runs times and calculating probabilty of 'success'\n",
    "\n",
    "    Args:\n",
    "    n_runs (int): number of simulations\n",
    "    n_pass (int): number of passengers\n",
    "\n",
    "    Returns:\n",
    "    float: estimated probabilty, that last passenger sits on his assigned seat\n",
    "    \"\"\"   \n",
    "    temp=0\n",
    "    for i in range(n_runs):\n",
    "        df=plane_seats(n_pass)\n",
    "        succ,df=seat_taken(n_pass,df) #generating data\n",
    "        temp+=succ\n",
    "    return temp/n_runs #estimated proportion for given sample\n",
    "    "
   ]
  },
  {
   "cell_type": "code",
   "execution_count": 5,
   "metadata": {},
   "outputs": [
    {
     "name": "stderr",
     "output_type": "stream",
     "text": [
      "c:\\Users\\Standa\\Desktop\\python\\statistika\\.stat\\lib\\site-packages\\seaborn\\_oldcore.py:1498: FutureWarning: is_categorical_dtype is deprecated and will be removed in a future version. Use isinstance(dtype, CategoricalDtype) instead\n",
      "  if pd.api.types.is_categorical_dtype(vector):\n",
      "c:\\Users\\Standa\\Desktop\\python\\statistika\\.stat\\lib\\site-packages\\seaborn\\_oldcore.py:1119: FutureWarning: use_inf_as_na option is deprecated and will be removed in a future version. Convert inf values to NaN before operating instead.\n",
      "  with pd.option_context('mode.use_inf_as_na', True):\n"
     ]
    },
    {
     "data": {
      "text/plain": [
       "<seaborn.axisgrid.FacetGrid at 0x1ee2ee0a6d0>"
      ]
     },
     "execution_count": 5,
     "metadata": {},
     "output_type": "execute_result"
    },
    {
     "data": {
      "image/png": "[encoded data removed]",
      "text/plain": [
       "<Figure size 500x500 with 1 Axes>"
      ]
     },
     "metadata": {},
     "output_type": "display_data"
    }
   ],
   "source": [
    "#generating 200 sample with size 500; partial estimated propotions of success are used to create sample distribution of estimated proportion\n",
    "part_est=[]\n",
    "for sample in range(200):\n",
    "    part_est.append(simulation(500,100))\n",
    "sb.displot(part_est)"
   ]
  },
  {
   "cell_type": "code",
   "execution_count": 12,
   "metadata": {},
   "outputs": [
    {
     "name": "stdout",
     "output_type": "stream",
     "text": [
      "Proportion estimate: 0.5012300000000001; Confidence interval: (0.45,0.54205); Standard Error: 0.023580226886101\n"
     ]
    }
   ],
   "source": [
    "#proportion estimate and 95% confidence interval\n",
    "proportion_estimate=np.mean(part_est)\n",
    "low=np.percentile(part_est,2.5)\n",
    "high=np.percentile(part_est,97.5)\n",
    "SE=np.std(part_est)\n",
    "\n",
    "print(f\"Proportion estimate: {proportion_estimate}; Confidence interval: ({low},{high}); Standard Error: {SE}\")"
   ]
  },
  {
   "cell_type": "markdown",
   "metadata": {},
   "source": [
    "Proportion estimate is almost equal to theoretical value of 0.5; CI includes this value "
   ]
  }
 ],
 "metadata": {
  "kernelspec": {
   "display_name": ".stat",
   "language": "python",
   "name": "python3"
  },
  "language_info": {
   "codemirror_mode": {
    "name": "ipython",
    "version": 3
   },
   "file_extension": ".py",
   "mimetype": "text/x-python",
   "name": "python",
   "nbconvert_exporter": "python",
   "pygments_lexer": "ipython3",
   "version": "3.9.2"
  }
 },
 "nbformat": 4,
 "nbformat_minor": 2
}
